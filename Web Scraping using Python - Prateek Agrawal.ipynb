{
 "cells": [
  {
   "cell_type": "markdown",
   "metadata": {},
   "source": [
    "# Web Scraping using python"
   ]
  },
  {
   "cell_type": "markdown",
   "metadata": {},
   "source": [
    "### Automating WebScraping using Autoscraper"
   ]
  },
  {
   "cell_type": "code",
   "execution_count": 1,
   "metadata": {},
   "outputs": [
    {
     "name": "stdout",
     "output_type": "stream",
     "text": [
      "Collecting autoscraper\n",
      "  Downloading https://files.pythonhosted.org/packages/50/44/553afbb7624aaa16e71546196c1f3beb170dd555a2822785889a9da5c2e7/autoscraper-1.1.12-py3-none-any.whl\n",
      "Collecting bs4 (from autoscraper)\n",
      "  Downloading https://files.pythonhosted.org/packages/10/ed/7e8b97591f6f456174139ec089c769f89a94a1a4025fe967691de971f314/bs4-0.0.1.tar.gz\n",
      "Requirement already satisfied: lxml in d:\\software\\anaconda ankur\\files\\lib\\site-packages (from autoscraper) (4.2.5)\n",
      "Requirement already satisfied: requests in d:\\software\\anaconda ankur\\files\\lib\\site-packages (from autoscraper) (2.24.0)\n",
      "Requirement already satisfied: beautifulsoup4 in d:\\software\\anaconda ankur\\files\\lib\\site-packages (from bs4->autoscraper) (4.6.3)\n",
      "Requirement already satisfied: idna<3,>=2.5 in d:\\software\\anaconda ankur\\files\\lib\\site-packages (from requests->autoscraper) (2.7)\n",
      "Requirement already satisfied: chardet<4,>=3.0.2 in d:\\software\\anaconda ankur\\files\\lib\\site-packages (from requests->autoscraper) (3.0.4)\n",
      "Requirement already satisfied: certifi>=2017.4.17 in d:\\software\\anaconda ankur\\files\\lib\\site-packages (from requests->autoscraper) (2020.12.5)\n",
      "Requirement already satisfied: urllib3!=1.25.0,!=1.25.1,<1.26,>=1.21.1 in d:\\software\\anaconda ankur\\files\\lib\\site-packages (from requests->autoscraper) (1.23)\n",
      "Building wheels for collected packages: bs4\n",
      "  Running setup.py bdist_wheel for bs4: started\n",
      "  Running setup.py bdist_wheel for bs4: finished with status 'done'\n",
      "  Stored in directory: C:\\Users\\91993\\AppData\\Local\\pip\\Cache\\wheels\\a0\\b0\\b2\\4f80b9456b87abedbc0bf2d52235414c3467d8889be38dd472\n",
      "Successfully built bs4\n",
      "Installing collected packages: bs4, autoscraper\n",
      "Successfully installed autoscraper-1.1.12 bs4-0.0.1\n"
     ]
    },
    {
     "name": "stderr",
     "output_type": "stream",
     "text": [
      "yarl 1.6.2 requires typing-extensions>=3.7.4; python_version < \"3.8\", which is not installed.\n",
      "twisted 18.7.0 requires PyHamcrest>=1.9.0, which is not installed.\n",
      "torch 1.6.0 requires future, which is not installed.\n",
      "conda 4.10.1 requires ruamel_yaml_conda>=0.11.14, which is not installed.\n",
      "tensorflow 2.3.0 has requirement keras-preprocessing<1.2,>=1.1.1, but you'll have keras-preprocessing 1.1.0 which is incompatible.\n",
      "tensorflow 2.3.0 has requirement numpy<1.19.0,>=1.16.0, but you'll have numpy 1.19.1 which is incompatible.\n",
      "tensorflow 2.3.0 has requirement scipy==1.4.1, but you'll have scipy 1.5.2 which is incompatible.\n",
      "aiohttp 3.6.3 has requirement yarl<1.6.0,>=1.0, but you'll have yarl 1.6.2 which is incompatible.\n",
      "You are using pip version 10.0.1, however version 21.1.2 is available.\n",
      "You should consider upgrading via the 'python -m pip install --upgrade pip' command.\n"
     ]
    }
   ],
   "source": [
    "!pip install autoscraper"
   ]
  },
  {
   "cell_type": "code",
   "execution_count": 2,
   "metadata": {},
   "outputs": [],
   "source": [
    "from autoscraper import AutoScraper"
   ]
  },
  {
   "cell_type": "code",
   "execution_count": 7,
   "metadata": {},
   "outputs": [],
   "source": [
    "url = \"https://www.amazon.in/s?k=iphone\"\n",
    "\n",
    "wanted_list = [\"New Apple iPhone 12 (128GB) - Blue\" , \"₹75,900\"]"
   ]
  },
  {
   "cell_type": "code",
   "execution_count": 8,
   "metadata": {},
   "outputs": [
    {
     "name": "stdout",
     "output_type": "stream",
     "text": [
      "['New Apple iPhone 11 (64GB) - Green', 'New Apple iPhone 12 (128GB) - Blue', 'New Apple iPhone 12 Mini (64GB) - Blue', 'New Apple iPhone 12 Mini (64GB) - Black', 'New Apple iPhone 12 Pro Max (128GB) - Pacific Blue', 'New Apple iPhone 11 (128GB) - (Product) RED', 'New Apple iPhone 11 (128GB) - Green', 'New Apple iPhone 12 Mini (128GB) - White', 'New Apple iPhone 12 (64GB) - Black', 'New Apple iPhone 12 (64GB) - Blue', 'New Apple iPhone 11 (64GB) - Yellow', 'Apple iPhone 11 Pro Max (256GB) - Midnight Green', 'New Apple iPhone 12 Mini (64GB) - White', 'New Apple iPhone 12 Mini (128GB) - Blue', 'New Apple iPhone 12 (64GB) - White', 'New Apple iPhone 12 (128GB) - White', '₹53,250', '₹54,900', '₹75,900', '₹84,900', '₹59,999', '₹69,900', '₹58,999', '₹1,24,700', '₹1,29,900', '₹58,100', '₹59,900', '₹62,999', '₹74,900', '₹70,900', '₹79,900', '₹71,900', '₹92,900', '₹1,23,900', '₹65,999']\n"
     ]
    }
   ],
   "source": [
    "scraper=AutoScraper()\n",
    "\n",
    "result=scraper.build(url,wanted_list)\n",
    "\n",
    "print(result)"
   ]
  },
  {
   "cell_type": "code",
   "execution_count": 9,
   "metadata": {},
   "outputs": [
    {
     "data": {
      "text/plain": [
       "{'rule_6xrn': ['New Apple iPhone 11 (64GB) - Green',\n",
       "  'New Apple iPhone 12 (128GB) - Blue',\n",
       "  'New Apple iPhone 12 Mini (64GB) - Blue',\n",
       "  'New Apple iPhone 12 Mini (64GB) - Black',\n",
       "  'New Apple iPhone 12 Pro Max (128GB) - Pacific Blue',\n",
       "  'New Apple iPhone 11 (128GB) - (Product) RED',\n",
       "  'New Apple iPhone 11 (128GB) - Green',\n",
       "  'New Apple iPhone 12 Mini (128GB) - White',\n",
       "  'New Apple iPhone 12 (64GB) - Black',\n",
       "  'New Apple iPhone 12 (64GB) - Blue',\n",
       "  'New Apple iPhone 11 (64GB) - Yellow',\n",
       "  'Apple iPhone 11 Pro Max (256GB) - Midnight Green',\n",
       "  'New Apple iPhone 12 Mini (64GB) - White',\n",
       "  'New Apple iPhone 12 Mini (128GB) - Blue',\n",
       "  'New Apple iPhone 12 (64GB) - White',\n",
       "  'Apple iPhone 11 Pro (256GB) - Space Grey'],\n",
       " 'rule_s04q': ['New Apple iPhone 11 (64GB) - Green',\n",
       "  'New Apple iPhone 12 (128GB) - Blue',\n",
       "  'New Apple iPhone 12 Mini (64GB) - Blue',\n",
       "  'New Apple iPhone 12 Mini (64GB) - Black',\n",
       "  'New Apple iPhone 12 Pro Max (128GB) - Pacific Blue',\n",
       "  'New Apple iPhone 11 (128GB) - (Product) RED',\n",
       "  'New Apple iPhone 11 (128GB) - Green',\n",
       "  'New Apple iPhone 12 Mini (128GB) - White',\n",
       "  'New Apple iPhone 12 (64GB) - Black',\n",
       "  'New Apple iPhone 12 (64GB) - Blue',\n",
       "  'New Apple iPhone 11 (64GB) - Yellow',\n",
       "  'Apple iPhone 11 Pro Max (256GB) - Midnight Green',\n",
       "  'New Apple iPhone 12 Mini (64GB) - White',\n",
       "  'New Apple iPhone 12 Mini (128GB) - Blue',\n",
       "  'New Apple iPhone 12 (64GB) - White',\n",
       "  'Apple iPhone 11 Pro (256GB) - Space Grey'],\n",
       " 'rule_9jk1': ['₹53,250',\n",
       "  '₹54,900',\n",
       "  '₹75,900',\n",
       "  '₹84,900',\n",
       "  '₹59,999',\n",
       "  '₹69,900',\n",
       "  '₹58,999',\n",
       "  '₹69,900',\n",
       "  '₹1,24,700',\n",
       "  '₹1,29,900',\n",
       "  '₹58,100',\n",
       "  '₹59,900',\n",
       "  '₹59,900',\n",
       "  '₹62,999',\n",
       "  '₹74,900',\n",
       "  '₹70,900',\n",
       "  '₹79,900',\n",
       "  '₹71,900',\n",
       "  '₹79,900',\n",
       "  '₹53,250',\n",
       "  '₹54,900',\n",
       "  '₹92,900',\n",
       "  '₹1,23,900',\n",
       "  '₹58,999',\n",
       "  '₹69,900',\n",
       "  '₹65,999',\n",
       "  '₹74,900',\n",
       "  '₹70,900',\n",
       "  '₹79,900',\n",
       "  '₹86,900',\n",
       "  '₹1,21,300'],\n",
       " 'rule_2iju': ['₹53,250',\n",
       "  '₹54,900',\n",
       "  '₹75,900',\n",
       "  '₹84,900',\n",
       "  '₹59,999',\n",
       "  '₹69,900',\n",
       "  '₹58,999',\n",
       "  '₹69,900',\n",
       "  '₹1,24,700',\n",
       "  '₹1,29,900',\n",
       "  '₹58,100',\n",
       "  '₹59,900',\n",
       "  '₹59,900',\n",
       "  '₹62,999',\n",
       "  '₹74,900',\n",
       "  '₹70,900',\n",
       "  '₹79,900',\n",
       "  '₹71,900',\n",
       "  '₹79,900',\n",
       "  '₹53,250',\n",
       "  '₹54,900',\n",
       "  '₹92,900',\n",
       "  '₹1,23,900',\n",
       "  '₹58,999',\n",
       "  '₹69,900',\n",
       "  '₹65,999',\n",
       "  '₹74,900',\n",
       "  '₹70,900',\n",
       "  '₹79,900',\n",
       "  '₹86,900',\n",
       "  '₹1,21,300'],\n",
       " 'rule_0k7c': ['₹53,250',\n",
       "  '₹54,900',\n",
       "  '₹75,900',\n",
       "  '₹84,900',\n",
       "  '₹59,999',\n",
       "  '₹69,900',\n",
       "  '₹58,999',\n",
       "  '₹69,900',\n",
       "  '₹1,24,700',\n",
       "  '₹1,29,900',\n",
       "  '₹58,100',\n",
       "  '₹59,900',\n",
       "  '₹59,900',\n",
       "  '₹62,999',\n",
       "  '₹74,900',\n",
       "  '₹70,900',\n",
       "  '₹79,900',\n",
       "  '₹71,900',\n",
       "  '₹79,900',\n",
       "  '₹53,250',\n",
       "  '₹54,900',\n",
       "  '₹92,900',\n",
       "  '₹1,23,900',\n",
       "  '₹58,999',\n",
       "  '₹69,900',\n",
       "  '₹65,999',\n",
       "  '₹74,900',\n",
       "  '₹70,900',\n",
       "  '₹79,900',\n",
       "  '₹86,900',\n",
       "  '₹1,21,300'],\n",
       " 'rule_uwno': ['₹53,250',\n",
       "  '₹54,900',\n",
       "  '₹75,900',\n",
       "  '₹84,900',\n",
       "  '₹59,999',\n",
       "  '₹69,900',\n",
       "  '₹58,999',\n",
       "  '₹69,900',\n",
       "  '₹1,24,700',\n",
       "  '₹1,29,900',\n",
       "  '₹58,100',\n",
       "  '₹59,900',\n",
       "  '₹59,900',\n",
       "  '₹62,999',\n",
       "  '₹74,900',\n",
       "  '₹70,900',\n",
       "  '₹79,900',\n",
       "  '₹71,900',\n",
       "  '₹79,900',\n",
       "  '₹53,250',\n",
       "  '₹54,900',\n",
       "  '₹92,900',\n",
       "  '₹1,23,900',\n",
       "  '₹58,999',\n",
       "  '₹69,900',\n",
       "  '₹65,999',\n",
       "  '₹74,900',\n",
       "  '₹70,900',\n",
       "  '₹79,900',\n",
       "  '₹86,900',\n",
       "  '₹1,21,300']}"
      ]
     },
     "execution_count": 9,
     "metadata": {},
     "output_type": "execute_result"
    }
   ],
   "source": [
    "scraper.get_result_similar(url,grouped=True)"
   ]
  },
  {
   "cell_type": "code",
   "execution_count": 10,
   "metadata": {},
   "outputs": [],
   "source": [
    "scraper.set_rule_aliases({'rule_6xrn':'Title','rule_9jk1':'Price'})\n",
    "\n",
    "scraper.keep_rules(['rule_6xrn','rule_9jk1'])\n",
    "\n",
    "scraper.save('searching-amazon')"
   ]
  },
  {
   "cell_type": "code",
   "execution_count": 14,
   "metadata": {},
   "outputs": [],
   "source": [
    "## Now we can use this above scrappin frramework\n",
    "## for webscraping of a similar search at amazon.\n",
    "\n",
    "new_search = scraper.get_result_similar('https://www.amazon.in/s?k=oneplus+phones' ,group_by_alias=True)\n"
   ]
  },
  {
   "cell_type": "code",
   "execution_count": 16,
   "metadata": {},
   "outputs": [
    {
     "data": {
      "text/plain": [
       "['OnePlus 9R 5G (Lake Blue, 8GB RAM, 128GB Storage) | Extra INR 2,000 OFF on Exchange | NCEMI upto 9 months',\n",
       " 'OnePlus 8T 5G (Lunar Silver, 8GB RAM, 128GB Storage)',\n",
       " 'OnePlus 8 Pro (Onyx Black 8GB RAM+128GB Storage)',\n",
       " 'OnePlus 3T (Gunmetal)',\n",
       " 'OnePlus 8T 5G (Lunar Silver 12GB RAM, 256GB Storage)',\n",
       " 'OnePlus 8T 5G (Aquamarine Green, 8GB RAM, 128GB Storage)',\n",
       " '(Renewed) OnePlus 5 (Slate Gray, 6GB RAM + 64GB memory)',\n",
       " '(Renewed) OnePlus 8T 5G (Lunar Silver, 8GB RAM, 128GB Storage)',\n",
       " 'OnePlus 8T 5G (Aquamarine Green, 12GB RAM, 256GB Storage)',\n",
       " 'OnePlus 9R 5G (Carbon Black, 12GB RAM, 256 GB Storage) | Extra INR 2,000 OFF on Exchange | NCEMI upto 9 months',\n",
       " '(Renewed) OnePlus 8T 5G (Aquamarine Green, 12GB RAM, 256GB Storage)',\n",
       " 'OnePlus 9R 5G (Lake Blue, 12GB RAM, 256GB Storage) | Extra INR 2,000 OFF on Exchange | NCEMI upto 9 months',\n",
       " '(Renewed) OnePlus 8T 5G (Lunar Silver, 12GB RAM, 256GB Storage)',\n",
       " 'OnePlus 9 Pro 5G (Pine Green, 8GB RAM, 128GB  Storage)',\n",
       " 'OnePlus 9 Pro 5G (Morning Mist, 12GB RAM, 256GB Storage)',\n",
       " 'OnePlus 9R 5G (Carbon Black, 8GB RAM, 128GB Storage) | Extra INR 2,000 OFF on Exchange | NCEMI upto 9 months']"
      ]
     },
     "execution_count": 16,
     "metadata": {},
     "output_type": "execute_result"
    }
   ],
   "source": [
    "new_search['Title']"
   ]
  },
  {
   "cell_type": "code",
   "execution_count": 17,
   "metadata": {},
   "outputs": [
    {
     "data": {
      "text/plain": [
       "['₹39,999',\n",
       " '₹38,999',\n",
       " '₹42,999',\n",
       " '₹48,999',\n",
       " '₹54,999',\n",
       " '₹21,999',\n",
       " '₹34,999',\n",
       " '₹41,999',\n",
       " '₹45,999',\n",
       " '₹38,999',\n",
       " '₹42,999',\n",
       " '₹36,499',\n",
       " '₹42,999',\n",
       " '₹41,999',\n",
       " '₹45,999',\n",
       " '₹43,999',\n",
       " '₹39,499',\n",
       " '₹41,999',\n",
       " '₹43,999',\n",
       " '₹39,499',\n",
       " '₹45,999',\n",
       " '₹64,999',\n",
       " '₹69,999',\n",
       " '₹39,999']"
      ]
     },
     "execution_count": 17,
     "metadata": {},
     "output_type": "execute_result"
    }
   ],
   "source": [
    "new_search['Price']"
   ]
  },
  {
   "cell_type": "code",
   "execution_count": 18,
   "metadata": {},
   "outputs": [],
   "source": [
    "# And now in this way, we can easily scrap webpages.\n",
    "#Simple and easy."
   ]
  },
  {
   "cell_type": "code",
   "execution_count": 19,
   "metadata": {},
   "outputs": [],
   "source": [
    "again_search = scraper.get_result_similar('https://www.amazon.in/s?k=samsung+phones' ,group_by_alias=True)\n"
   ]
  },
  {
   "cell_type": "code",
   "execution_count": 20,
   "metadata": {},
   "outputs": [
    {
     "data": {
      "text/plain": [
       "['Samsung Galaxy M31 (Ocean Blue, 6GB RAM, 128GB Storage)',\n",
       " 'Samsung Galaxy M12 (Blue,4GB RAM, 64GB Storage) 6000 mAh with 8nm Processor | True 48 MP Quad Camera | 90Hz Refresh Rate',\n",
       " 'Samsung Galaxy M02 (Blue,3GB RAM, 32GB Storage)',\n",
       " 'Samsung Galaxy M21 (Midnight Blue, 4GB RAM, 64GB Storage)',\n",
       " 'Samsung Galaxy M31s (Mirage Blue, 6GB RAM, 128GB Storage)',\n",
       " 'Samsung Galaxy M12 (Black,4GB RAM, 64GB Storage) 6000 mAh with 8nm Processor | True 48 MP Quad Camera | 90Hz Refresh Rate',\n",
       " 'Samsung Galaxy M21 (Raven Black, 4GB RAM, 64GB Storage)',\n",
       " 'Samsung Galaxy M31 (Space Black, 6GB RAM, 128GB Storage)',\n",
       " 'Samsung Galaxy M11 (Black, 4GB RAM, 64GB Storage) with No Cost EMI/Additional Exchange Offers',\n",
       " 'Samsung Galaxy M12 (Blue,6GB RAM, 128GB Storage) 6000 mAh with 8nm Processor | True 48 MP Quad Camera | 90Hz Refresh Rate',\n",
       " 'Samsung Galaxy M12 (White,6GB RAM, 128GB Storage) 6000 mAh with 8nm Processor | True 48 MP Quad Camera | 90Hz Refresh Rate',\n",
       " 'Samsung Galaxy M02 (Red,2GB RAM, 32GB Storage)',\n",
       " 'Samsung Galaxy M02s (Black,3GB RAM, 32GB Storage) | 5000 mAh | Triple Camera',\n",
       " 'Samsung Galaxy M31 (Ocean Blue, 8GB RAM, 128GB Storage)',\n",
       " '(Renewed) Samsung Galaxy M02s (Red,4GB RAM, 64GB Storage) | 5000 mAh | Triple Camera']"
      ]
     },
     "execution_count": 20,
     "metadata": {},
     "output_type": "execute_result"
    }
   ],
   "source": [
    "again_search['Title']"
   ]
  },
  {
   "cell_type": "code",
   "execution_count": 21,
   "metadata": {},
   "outputs": [
    {
     "data": {
      "text/plain": [
       "['₹14,999',\n",
       " '₹19,999',\n",
       " '₹10,999',\n",
       " '₹12,999',\n",
       " '₹7,999',\n",
       " '₹8,499',\n",
       " '₹12,499',\n",
       " '₹15,999',\n",
       " '₹16,999',\n",
       " '₹22,999',\n",
       " '₹10,999',\n",
       " '₹12,999',\n",
       " '₹12,499',\n",
       " '₹13,999',\n",
       " '₹14,999',\n",
       " '₹19,999',\n",
       " '₹8,999',\n",
       " '₹14,999',\n",
       " '₹12,499',\n",
       " '₹15,499',\n",
       " '₹12,499',\n",
       " '₹15,499',\n",
       " '₹7,499',\n",
       " '₹7,999',\n",
       " '₹8,999',\n",
       " '₹10,499',\n",
       " '₹16,999',\n",
       " '₹21,999',\n",
       " '₹8,999',\n",
       " '₹11,499']"
      ]
     },
     "execution_count": 21,
     "metadata": {},
     "output_type": "execute_result"
    }
   ],
   "source": [
    "again_search['Price']"
   ]
  },
  {
   "cell_type": "code",
   "execution_count": null,
   "metadata": {},
   "outputs": [],
   "source": [
    "# Can do many such scrapings!"
   ]
  }
 ],
 "metadata": {
  "kernelspec": {
   "display_name": "Python 3",
   "language": "python",
   "name": "python3"
  },
  "language_info": {
   "codemirror_mode": {
    "name": "ipython",
    "version": 3
   },
   "file_extension": ".py",
   "mimetype": "text/x-python",
   "name": "python",
   "nbconvert_exporter": "python",
   "pygments_lexer": "ipython3",
   "version": "3.7.0"
  }
 },
 "nbformat": 4,
 "nbformat_minor": 2
}
